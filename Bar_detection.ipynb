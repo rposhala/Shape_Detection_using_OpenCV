{
 "cells": [
  {
   "cell_type": "code",
   "execution_count": 1,
   "metadata": {},
   "outputs": [],
   "source": [
    "def detect_bars(path,bar_count):\n",
    "\n",
    "    img = cv2.imread(path,1)\n",
    "    gray = cv2.cvtColor(img,cv2.COLOR_RGB2GRAY)\n",
    "    thresh_img = cv2.adaptiveThreshold(gray,255,cv2.ADAPTIVE_THRESH_GAUSSIAN_C,cv2.THRESH_BINARY,215,1) #guassion threshold with output binary threshold type\n",
    "\n",
    "    img2 = img.copy()\n",
    "    img3 = cv2.medianBlur(thresh_img,9)\n",
    "    \n",
    "    contours, hierarchy = cv2.findContours(img3,cv2.RETR_TREE,cv2.CHAIN_APPROX_SIMPLE) \n",
    "\n",
    "    thickness = 3\n",
    "    color = (255,0,255)\n",
    "    alist = []\n",
    "    dic = {}\n",
    "    \n",
    "    for cnt in range(len(contours)):\n",
    "\n",
    "        area = cv2.contourArea(contours[cnt])\n",
    "        dic[cnt] = area\n",
    "        alist.append(area)\n",
    "    #     print(i,area)\n",
    "    \n",
    "    alist = sorted(alist,reverse = True)[1:bar_count+1]\n",
    "    \n",
    "    for i in alist:\n",
    "        a = list(dic.keys())[list(dic.values()).index(i)]\n",
    "        cv2.drawContours(img2,contours,a,color,thickness)\n",
    "    cv2.imwrite('output_'+path, img2)\n",
    "    \n",
    "    \n",
    "#     cv2.waitKey(0)\n",
    "#     cv2.destroyAllWindows()"
   ]
  },
  {
   "cell_type": "code",
   "execution_count": 2,
   "metadata": {},
   "outputs": [],
   "source": [
    "import cv2\n",
    "import numpy as np\n",
    "from matplotlib import pyplot as plt \n",
    "\n",
    "path_a = 'PMC4380244___12889_2015_1622_Fig1_HTML.jpg'\n",
    "path_b = 'PMC3799537___ijerph-10-04274-g001.jpg'\n",
    "path_c = 'PMC4016520___1471-2458-13-987-4.jpg'\n",
    "\n",
    "bar_count_a = 6\n",
    "bar_count_b = 6\n",
    "bar_count_c = 6\n",
    "\n",
    "l = [(path_a,bar_count_a),(path_b,bar_count_b),(path_c,bar_count_c)]\n",
    "\n",
    "for i in l:\n",
    "    detect_bars(i[0],i[1])\n"
   ]
  },
  {
   "cell_type": "code",
   "execution_count": null,
   "metadata": {},
   "outputs": [],
   "source": []
  }
 ],
 "metadata": {
  "kernelspec": {
   "display_name": "Python 3",
   "language": "python",
   "name": "python3"
  },
  "language_info": {
   "codemirror_mode": {
    "name": "ipython",
    "version": 3
   },
   "file_extension": ".py",
   "mimetype": "text/x-python",
   "name": "python",
   "nbconvert_exporter": "python",
   "pygments_lexer": "ipython3",
   "version": "3.7.3"
  }
 },
 "nbformat": 4,
 "nbformat_minor": 2
}
